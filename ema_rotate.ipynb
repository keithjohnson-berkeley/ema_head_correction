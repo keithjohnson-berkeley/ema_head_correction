{
 "cells": [
  {
   "cell_type": "code",
   "execution_count": 1,
   "metadata": {},
   "outputs": [],
   "source": [
    "import ipyvolume as ipv\n",
    "import numpy as np\n",
    "import matplotlib.pyplot as plt\n",
    "from mpl_toolkits.mplot3d import Axes3D\n",
    "import ema"
   ]
  },
  {
   "cell_type": "code",
   "execution_count": 2,
   "metadata": {},
   "outputs": [
    {
     "data": {
      "text/plain": [
       "<module 'ema' from '/media/sf_Box_Sync/src/ema_head_correction/ema.py'>"
      ]
     },
     "execution_count": 2,
     "metadata": {},
     "output_type": "execute_result"
    }
   ],
   "source": [
    "import importlib\n",
    "\n",
    "importlib.reload(ema)  # force it to reload"
   ]
  },
  {
   "cell_type": "code",
   "execution_count": 3,
   "metadata": {},
   "outputs": [],
   "source": [
    "directory = \"data\"\n",
    "\n",
    "sensors = [\"REF\",\"UL\",\"LL\",\"JW\",\"TT\",\"TB\",\"TD\",\"TL\",\"LC\",\"UI\",\"J\",\"OS\",\"MS\",\"PL\"]\n",
    "knight_sensors = [\"LO\",\"n\",\"o\",\"UI\",\"LL\",\"LI\",\"FO\",\"RO\",\"LMA\",\"RMA\",\"REF\",\"p\",\"q\",\"r\",\"s\",\"t\"]\n",
    "human_testing_sensors = [\"a\",\"b\",\"c\",\"REF\",\"MS\",\"JAW\",\"d\",\"e\",\"RMA\",\"LMA\",\"OS\",\"f\",\"g\",\"h\",\"i\"]\n",
    "subcolumns = [\"ID\",\"frame\",\"state\",\"q0\",\"qx\",\"qy\",\"qz\",\"x\",\"y\",\"z\"] "
   ]
  },
  {
   "cell_type": "code",
   "execution_count": 4,
   "metadata": {},
   "outputs": [
    {
     "data": {
      "text/plain": [
       "array([ -26.189493 ,   50.8768575, -291.247182 ])"
      ]
     },
     "execution_count": 4,
     "metadata": {},
     "output_type": "execute_result"
    }
   ],
   "source": [
    "file = \"human_test_without _6dref_biteplate_002.tsv\"\n",
    "df = ema.read_ndi_data(directory, file, human_testing_sensors, subcolumns)\n",
    "OS, ref,rma,lma = ema.get_desired_head_location(df, protractor=False) \n",
    "OS"
   ]
  },
  {
   "cell_type": "code",
   "execution_count": 7,
   "metadata": {},
   "outputs": [
    {
     "data": {
      "application/vnd.jupyter.widget-view+json": {
       "model_id": "39d437a89c8e47e3b005717f0e66b59b",
       "version_major": 2,
       "version_minor": 0
      },
      "text/plain": [
       "VBox(children=(Figure(camera=PerspectiveCamera(fov=46.0, position=(0.0, 0.0, 2.0), quaternion=(0.0, 0.0, 0.0, …"
      ]
     },
     "metadata": {},
     "output_type": "display_data"
    }
   ],
   "source": [
    "points = np.concatenate([[ref],[rma],[lma],[[0,0,0]]])\n",
    "\n",
    "ipvfig = ipv.figure()\n",
    "ipv.scatter(*points.T,size=1,marker=\"sphere\",color=\"blue\")\n",
    "ipv.show()"
   ]
  },
  {
   "cell_type": "code",
   "execution_count": 6,
   "metadata": {},
   "outputs": [
    {
     "data": {
      "text/plain": [
       "[<matplotlib.lines.Line2D at 0x7f01fd1e5fd0>]"
      ]
     },
     "execution_count": 6,
     "metadata": {},
     "output_type": "execute_result"
    },
    {
     "data": {
      "image/png": "[encoded data removed]",
      "text/plain": [
       "<Figure size 432x288 with 2 Axes>"
      ]
     },
     "metadata": {
      "needs_background": "light"
     },
     "output_type": "display_data"
    }
   ],
   "source": [
    "y,x,z = points.T\n",
    "\n",
    "fig = plt.figure()\n",
    "ax = fig.add_subplot(121)\n",
    "ax.plot(x,z,'r.')\n",
    "ax = fig.add_subplot(122)\n",
    "ax.plot(x,y,'r.')"
   ]
  },
  {
   "cell_type": "code",
   "execution_count": null,
   "metadata": {},
   "outputs": [],
   "source": [
    "points"
   ]
  },
  {
   "cell_type": "code",
   "execution_count": null,
   "metadata": {},
   "outputs": [],
   "source": []
  }
 ],
 "metadata": {
  "kernelspec": {
   "display_name": "Python 3",
   "language": "python",
   "name": "python3"
  },
  "language_info": {
   "codemirror_mode": {
    "name": "ipython",
    "version": 3
   },
   "file_extension": ".py",
   "mimetype": "text/x-python",
   "name": "python",
   "nbconvert_exporter": "python",
   "pygments_lexer": "ipython3",
   "version": "3.7.2"
  }
 },
 "nbformat": 4,
 "nbformat_minor": 2
}
